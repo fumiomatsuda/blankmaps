{
 "cells": [
  {
   "cell_type": "code",
   "execution_count": null,
   "metadata": {
    "collapsed": true
   },
   "outputs": [],
   "source": [
    "#Don't forget to shut down kernel by running the cell of the bottom.\n",
    "#Don't modify this cell.\n",
    "#Loading the file\n",
    "import pandas as pd\n",
    "\n",
    "FILE_NAME = \"test.szf\"\n",
    "\n",
    "df = pd.read_csv(FILE_NAME, sep = \"\\t\")\n",
    "print(df)"
   ]
  },
  {
   "cell_type": "code",
   "execution_count": null,
   "metadata": {
    "collapsed": true
   },
   "outputs": [],
   "source": [
    "#Enter the starting row and column for the quantified value.\n",
    "START_ROW = 4\n",
    "START_COL = 2\n",
    "COMPOUND_ID_NAME = \"InChi\"\n",
    "\n",
    "#PCA\n",
    "from sklearn.decomposition import PCA \n",
    "pca = PCA(n_components = 2)\n",
    "df_values = df.iloc[START_ROW:, START_COL:].astype(float)\n",
    "df_values = df_values.apply(lambda x: (x - x.mean()) / x.std(), axis=1) #Auto Scaling\n",
    "df_values[\"Name\"] = df[\"Name\"][START_ROW:, ]\n",
    "df_values[COMPOUND_ID_NAME] = df[COMPOUND_ID_NAME][START_ROW:, ]\n",
    "df_values = df_values.dropna() #Missing value processing\n",
    "drop_col = [\"Name\", COMPOUND_ID_NAME]\n",
    "x = pca.fit_transform(df_values.drop(drop_col, axis=1).T)\n",
    "embed = pd.DataFrame(x)\n",
    "\n",
    "pc1_variance = pca.explained_variance_ratio_[0] * 100\n",
    "pc2_variance = pca.explained_variance_ratio_[1] * 100\n",
    "\n",
    "import matplotlib.pyplot as plt\n",
    "fig = plt.figure(figsize=(6, 12))\n",
    "\n",
    "ax1 = fig.add_subplot(2, 1, 1)\n",
    "ax1.scatter(embed.iloc[:, 0], embed.iloc[:, 1])\n",
    "for x, y, name in zip(embed.iloc[:, 0], embed.iloc[:, 1], df_values.drop(drop_col, axis=1).columns[0:]):\n",
    "    ax1.annotate(name, xy = (x, y))\n",
    "ax1.grid()\n",
    "ax1.set_title(\"Score Plot\")\n",
    "ax1.set_xlabel(\"PC1({:.1f}%)\".format(pc1_variance))\n",
    "ax1.set_ylabel(\"PC2({:.1f}%)\".format(pc2_variance))\n",
    "\n",
    "import numpy as np\n",
    "loading = pca.components_*np.c_[np.sqrt(pca.explained_variance_)]\n",
    "loading_plot = pd.DataFrame({\"PC1\" : loading[0], \"PC2\" : loading[1], \"Name\" : df_values[\"Name\"], COMPOUND_ID_NAME : df_values[COMPOUND_ID_NAME]})\n",
    "\n",
    "ax2 = fig.add_subplot(2, 1, 2)\n",
    "ax2.scatter(loading_plot[\"PC1\"], loading_plot[\"PC2\"])\n",
    "for x, y, name in zip(loading_plot[\"PC1\"], loading_plot[\"PC2\"], loading_plot[\"Name\"]):\n",
    "    ax2.annotate(name, xy = (x, y))\n",
    "ax2.grid()\n",
    "ax2.set_title(\"Loading Plot\")\n",
    "ax2.set_xlabel(\"PC1({:.1f}%)\".format(pc1_variance))\n",
    "ax2.set_ylabel(\"PC2({:.1f}%)\".format(pc2_variance))\n",
    "\n",
    "fig.tight_layout()\n",
    "plt.show()"
   ]
  },
  {
   "cell_type": "code",
   "execution_count": null,
   "metadata": {
    "collapsed": true
   },
   "outputs": [],
   "source": [
    "for i in [\"PC1\", \"PC2\"]:\n",
    "    loading_plot = loading_plot.sort_values(i, ascending=False)\n",
    "    plt.figure(figsize=(20, 6))\n",
    "    plt.bar(range(len(loading_plot)), loading_plot[i], tick_label = loading_plot[\"Name\"])\n",
    "    plt.xticks(rotation=90)\n",
    "    plt.title(\"Loading Plot(\" + i + \")\")\n",
    "    plt.xlabel(\"Compound Name\")\n",
    "    plt.ylabel(i)\n",
    "    plt.show()"
   ]
  },
  {
   "cell_type": "code",
   "execution_count": null,
   "metadata": {
    "collapsed": true
   },
   "outputs": [],
   "source": [
    "TOP = 10\n",
    "\n",
    "loading_plot = loading_plot.reindex(loading_plot.PC1.abs().sort_values(ascending=False).index)\n",
    "pc1 = loading_plot[COMPOUND_ID_NAME][:TOP]\n",
    "\n",
    "loading_plot = loading_plot.reindex(loading_plot.PC2.abs().sort_values(ascending=False).index)\n",
    "pc2 = loading_plot[COMPOUND_ID_NAME][:TOP]\n",
    "\n",
    "output = pd.concat([pc1,pc2]).drop_duplicates().reset_index(drop=True)\n",
    "#Creating an output file\n",
    "output.to_csv(\"output.txt\", sep = \"\\t\", index = False, header=False)"
   ]
  },
  {
   "cell_type": "code",
   "execution_count": null,
   "metadata": {
    "collapsed": true
   },
   "outputs": [],
   "source": [
    "#shutting down the kernel\n",
    "import os\n",
    "os.rename(\"../Terminate/OFF\", \"../Terminate/ON\")"
   ]
  }
 ],
 "metadata": {
  "kernelspec": {
   "display_name": "Python 3",
   "language": "python",
   "name": "python3"
  },
  "language_info": {
   "codemirror_mode": {
    "name": "ipython",
    "version": 3
   },
   "file_extension": ".py",
   "mimetype": "text/x-python",
   "name": "python",
   "nbconvert_exporter": "python",
   "pygments_lexer": "ipython3",
   "version": "3.6.8"
  }
 },
 "nbformat": 4,
 "nbformat_minor": 2
}
